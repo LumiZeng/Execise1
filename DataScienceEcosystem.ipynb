{
 "cells": [
  {
   "cell_type": "markdown",
   "id": "9ef7aa24-9948-4167-b806-e582632bae7b",
   "metadata": {},
   "source": [
    "# Data Science Tools and Ecosystem"
   ]
  },
  {
   "cell_type": "markdown",
   "id": "9ce6a14b-279f-4669-8792-91dd3fe1502b",
   "metadata": {},
   "source": [
    "In this notebook, Data Science Tools and Ecosystem are summarized."
   ]
  },
  {
   "cell_type": "markdown",
   "id": "ebae87c4-2b06-4573-b577-9fb059a751fb",
   "metadata": {},
   "source": [
    "Some of the popular languages that Data Scientists use are: \n",
    "1. R\n",
    "1. Python\n",
    "1. SQL"
   ]
  },
  {
   "cell_type": "markdown",
   "id": "4a67cf67-bd24-46de-ba8a-e399a11e600c",
   "metadata": {},
   "source": [
    "Some of the commonly used libraries used by Data Scientists include:\n",
    "* R\n",
    "  1. dplyr.\n",
    "  2. stringr.\n",
    "  3. readr.\n",
    "* Python\n",
    "  1. Numpy\n",
    "  2. Pandas\n",
    "  3. Matplotlib"
   ]
  },
  {
   "cell_type": "markdown",
   "id": "56690821-6b9f-438c-ad81-a05e617fb69a",
   "metadata": {},
   "source": [
    "|Data Science Tools|\n",
    "|-------|\n",
    "|Visual Studio|\n",
    "|Eclipse|\n",
    "|Git|"
   ]
  },
  {
   "cell_type": "markdown",
   "id": "84f08725-e586-42ec-9615-55ed44e99b1f",
   "metadata": {},
   "source": [
    "### Below are a few examples of evaluating arithmetic expressions in Python"
   ]
  },
  {
   "cell_type": "code",
   "execution_count": 3,
   "id": "678b74c8-76c1-4d46-85a9-9465a983cd32",
   "metadata": {},
   "outputs": [
    {
     "data": {
      "text/plain": [
       "17"
      ]
     },
     "execution_count": 3,
     "metadata": {},
     "output_type": "execute_result"
    }
   ],
   "source": [
    "(3*4)+5\n",
    "# This a simple arithmetic expression to mutiply then add integers"
   ]
  },
  {
   "cell_type": "code",
   "execution_count": 5,
   "id": "9c8a3ad0-3ce8-4c25-8739-cba21cf8513f",
   "metadata": {},
   "outputs": [
    {
     "data": {
      "text/plain": [
       "3.3333333333333335"
      ]
     },
     "execution_count": 5,
     "metadata": {},
     "output_type": "execute_result"
    }
   ],
   "source": [
    "# This will convert 200 minutes to hours by diving by 60\n",
    "200/60"
   ]
  },
  {
   "cell_type": "markdown",
   "id": "e1123a73-93bc-4f09-a46c-39e6ea19f6f7",
   "metadata": {},
   "source": [
    "**Objectives:**\n",
    "* List popular languages for Data Science\n",
    "* Get to know the basic of Github\n",
    "* Know some commonly used libraries in R."
   ]
  },
  {
   "cell_type": "markdown",
   "id": "057bdff3-b0d1-4ac8-8cf5-1df76a6cd00d",
   "metadata": {},
   "source": [
    "## Author\n",
    "Lumi Z"
   ]
  },
  {
   "cell_type": "code",
   "execution_count": null,
   "id": "ade3caf0-b21f-4a02-af76-c6b709d0d6a1",
   "metadata": {},
   "outputs": [],
   "source": []
  }
 ],
 "metadata": {
  "kernelspec": {
   "display_name": "Python 3 (ipykernel)",
   "language": "python",
   "name": "python3"
  },
  "language_info": {
   "codemirror_mode": {
    "name": "ipython",
    "version": 3
   },
   "file_extension": ".py",
   "mimetype": "text/x-python",
   "name": "python",
   "nbconvert_exporter": "python",
   "pygments_lexer": "ipython3",
   "version": "3.11.7"
  }
 },
 "nbformat": 4,
 "nbformat_minor": 5
}
